{
 "cells": [
  {
   "cell_type": "code",
   "execution_count": 2,
   "id": "02a6f884",
   "metadata": {},
   "outputs": [
    {
     "name": "stdout",
     "output_type": "stream",
     "text": [
      "Processing fold 1\n",
      "Validation loss: 164.45968627929688\n",
      "Processing fold 2\n",
      "Validation loss: 36.880157470703125\n",
      "Processing fold 3\n",
      "Validation loss: 13.232959747314453\n",
      "Processing fold 4\n",
      "Validation loss: 5.25157356262207\n",
      "Processing fold 5\n",
      "Validation loss: 3.353829860687256\n"
     ]
    }
   ],
   "source": [
    "import numpy as np\n",
    "import tensorflow as tf\n",
    "from sklearn.datasets import make_regression\n",
    "from sklearn.model_selection import KFold\n",
    "\n",
    "X, y = make_regression(n_samples=1000, n_features=10, noise=0.1)\n",
    "\n",
    "model = tf.keras.Sequential([\n",
    "    tf.keras.layers.Dense(32, activation='relu', input_shape=(X.shape[1],)),\n",
    "    tf.keras.layers.Dense(16, activation='relu'),\n",
    "    tf.keras.layers.Dense(8, activation='relu'),\n",
    "    tf.keras.layers.Dense(1)\n",
    "])\n",
    "\n",
    "model.compile(loss='mean_squared_error', optimizer='adam')\n",
    "\n",
    "num_folds = 5\n",
    "\n",
    "kfold = KFold(n_splits=num_folds, shuffle=True, random_state=42)\n",
    "\n",
    "results = []\n",
    "\n",
    "for fold_idx, (train_idx, val_idx) in enumerate(kfold.split(X)):\n",
    "    \n",
    "    print('Processing fold', fold_idx+1)\n",
    "    \n",
    "    X_train, y_train = X[train_idx], y[train_idx]\n",
    "    X_val, y_val = X[val_idx], y[val_idx]\n",
    "    \n",
    "    model.fit(X_train, y_train, epochs=50, batch_size=32, verbose=0)\n",
    "    \n",
    "    val_loss = model.evaluate(X_val, y_val, verbose=0)\n",
    "    print('Validation loss:', val_loss)\n",
    "    \n",
    "    results.append(val_loss)"
   ]
  },
  {
   "cell_type": "code",
   "execution_count": 3,
   "id": "dccc2683",
   "metadata": {},
   "outputs": [
    {
     "name": "stdout",
     "output_type": "stream",
     "text": [
      "Mean validation loss: 44.63564138412475\n",
      "Standard deviation of validation loss: 61.08906684600735\n"
     ]
    }
   ],
   "source": [
    "mean_val_loss = np.mean(results)\n",
    "std_val_loss = np.std(results)\n",
    "\n",
    "print('Mean validation loss:', mean_val_loss)\n",
    "print('Standard deviation of validation loss:', std_val_loss)"
   ]
  },
  {
   "cell_type": "code",
   "execution_count": null,
   "id": "8362fe84",
   "metadata": {},
   "outputs": [],
   "source": []
  }
 ],
 "metadata": {
  "kernelspec": {
   "display_name": "Python 3 (ipykernel)",
   "language": "python",
   "name": "python3"
  },
  "language_info": {
   "codemirror_mode": {
    "name": "ipython",
    "version": 3
   },
   "file_extension": ".py",
   "mimetype": "text/x-python",
   "name": "python",
   "nbconvert_exporter": "python",
   "pygments_lexer": "ipython3",
   "version": "3.11.3"
  }
 },
 "nbformat": 4,
 "nbformat_minor": 5
}
