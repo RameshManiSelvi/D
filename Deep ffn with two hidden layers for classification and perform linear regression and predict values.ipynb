{
 "cells": [
  {
   "cell_type": "code",
   "execution_count": 1,
   "id": "d430b895",
   "metadata": {
    "scrolled": true
   },
   "outputs": [
    {
     "name": "stdout",
     "output_type": "stream",
     "text": [
      "Epoch 1/50\n",
      "20/20 [==============================] - 1s 17ms/step - loss: 9529.2314 - val_loss: 10332.1865\n",
      "Epoch 2/50\n",
      "20/20 [==============================] - 0s 4ms/step - loss: 9490.8809 - val_loss: 10286.2871\n",
      "Epoch 3/50\n",
      "20/20 [==============================] - 0s 3ms/step - loss: 9439.2568 - val_loss: 10221.5684\n",
      "Epoch 4/50\n",
      "20/20 [==============================] - 0s 4ms/step - loss: 9364.3320 - val_loss: 10124.8379\n",
      "Epoch 5/50\n",
      "20/20 [==============================] - 0s 3ms/step - loss: 9250.9814 - val_loss: 9985.9541\n",
      "Epoch 6/50\n",
      "20/20 [==============================] - 0s 3ms/step - loss: 9094.1045 - val_loss: 9782.0732\n",
      "Epoch 7/50\n",
      "20/20 [==============================] - 0s 3ms/step - loss: 8867.6455 - val_loss: 9507.2051\n",
      "Epoch 8/50\n",
      "20/20 [==============================] - 0s 3ms/step - loss: 8562.9795 - val_loss: 9137.3799\n",
      "Epoch 9/50\n",
      "20/20 [==============================] - 0s 3ms/step - loss: 8151.4023 - val_loss: 8658.4268\n",
      "Epoch 10/50\n",
      "20/20 [==============================] - 0s 3ms/step - loss: 7645.8018 - val_loss: 8034.2510\n",
      "Epoch 11/50\n",
      "20/20 [==============================] - 0s 3ms/step - loss: 7001.7041 - val_loss: 7326.8960\n",
      "Epoch 12/50\n",
      "20/20 [==============================] - 0s 3ms/step - loss: 6279.6626 - val_loss: 6527.2676\n",
      "Epoch 13/50\n",
      "20/20 [==============================] - 0s 4ms/step - loss: 5490.8735 - val_loss: 5667.9443\n",
      "Epoch 14/50\n",
      "20/20 [==============================] - 0s 4ms/step - loss: 4689.3325 - val_loss: 4806.5156\n",
      "Epoch 15/50\n",
      "20/20 [==============================] - 0s 3ms/step - loss: 3896.9500 - val_loss: 4023.5312\n",
      "Epoch 16/50\n",
      "20/20 [==============================] - 0s 3ms/step - loss: 3209.1067 - val_loss: 3280.3296\n",
      "Epoch 17/50\n",
      "20/20 [==============================] - 0s 3ms/step - loss: 2570.0457 - val_loss: 2662.6636\n",
      "Epoch 18/50\n",
      "20/20 [==============================] - 0s 4ms/step - loss: 2052.9829 - val_loss: 2123.1614\n",
      "Epoch 19/50\n",
      "20/20 [==============================] - 0s 3ms/step - loss: 1621.2534 - val_loss: 1676.4127\n",
      "Epoch 20/50\n",
      "20/20 [==============================] - 0s 5ms/step - loss: 1261.7828 - val_loss: 1320.0320\n",
      "Epoch 21/50\n",
      "20/20 [==============================] - 0s 4ms/step - loss: 987.6509 - val_loss: 1020.2291\n",
      "Epoch 22/50\n",
      "20/20 [==============================] - 0s 3ms/step - loss: 759.6362 - val_loss: 793.7040\n",
      "Epoch 23/50\n",
      "20/20 [==============================] - 0s 3ms/step - loss: 591.3497 - val_loss: 613.9059\n",
      "Epoch 24/50\n",
      "20/20 [==============================] - 0s 3ms/step - loss: 455.7733 - val_loss: 484.5150\n",
      "Epoch 25/50\n",
      "20/20 [==============================] - 0s 3ms/step - loss: 358.5329 - val_loss: 385.9390\n",
      "Epoch 26/50\n",
      "20/20 [==============================] - 0s 3ms/step - loss: 283.3176 - val_loss: 313.8119\n",
      "Epoch 27/50\n",
      "20/20 [==============================] - 0s 4ms/step - loss: 230.7095 - val_loss: 259.9978\n",
      "Epoch 28/50\n",
      "20/20 [==============================] - 0s 3ms/step - loss: 190.4479 - val_loss: 223.9672\n",
      "Epoch 29/50\n",
      "20/20 [==============================] - 0s 3ms/step - loss: 163.5397 - val_loss: 194.2953\n",
      "Epoch 30/50\n",
      "20/20 [==============================] - 0s 4ms/step - loss: 142.0277 - val_loss: 174.8244\n",
      "Epoch 31/50\n",
      "20/20 [==============================] - 0s 3ms/step - loss: 127.0545 - val_loss: 158.6267\n",
      "Epoch 32/50\n",
      "20/20 [==============================] - 0s 3ms/step - loss: 115.5281 - val_loss: 146.9582\n",
      "Epoch 33/50\n",
      "20/20 [==============================] - 0s 3ms/step - loss: 106.0433 - val_loss: 137.9798\n",
      "Epoch 34/50\n",
      "20/20 [==============================] - 0s 3ms/step - loss: 100.0274 - val_loss: 129.5612\n",
      "Epoch 35/50\n",
      "20/20 [==============================] - 0s 3ms/step - loss: 94.5779 - val_loss: 124.7673\n",
      "Epoch 36/50\n",
      "20/20 [==============================] - 0s 4ms/step - loss: 89.7180 - val_loss: 118.0966\n",
      "Epoch 37/50\n",
      "20/20 [==============================] - 0s 4ms/step - loss: 85.9034 - val_loss: 114.1239\n",
      "Epoch 38/50\n",
      "20/20 [==============================] - 0s 3ms/step - loss: 83.3785 - val_loss: 110.6202\n",
      "Epoch 39/50\n",
      "20/20 [==============================] - 0s 4ms/step - loss: 81.3200 - val_loss: 108.1991\n",
      "Epoch 40/50\n",
      "20/20 [==============================] - 0s 4ms/step - loss: 79.2187 - val_loss: 106.1809\n",
      "Epoch 41/50\n",
      "20/20 [==============================] - 0s 4ms/step - loss: 77.2933 - val_loss: 101.6805\n",
      "Epoch 42/50\n",
      "20/20 [==============================] - 0s 3ms/step - loss: 75.6494 - val_loss: 99.9844\n",
      "Epoch 43/50\n",
      "20/20 [==============================] - 0s 5ms/step - loss: 74.3346 - val_loss: 98.3514\n",
      "Epoch 44/50\n",
      "20/20 [==============================] - 0s 3ms/step - loss: 72.3662 - val_loss: 97.3690\n",
      "Epoch 45/50\n",
      "20/20 [==============================] - 0s 3ms/step - loss: 71.1438 - val_loss: 94.9149\n",
      "Epoch 46/50\n",
      "20/20 [==============================] - 0s 3ms/step - loss: 70.0613 - val_loss: 92.3915\n",
      "Epoch 47/50\n",
      "20/20 [==============================] - 0s 4ms/step - loss: 68.3940 - val_loss: 91.9671\n",
      "Epoch 48/50\n",
      "20/20 [==============================] - 0s 4ms/step - loss: 67.9199 - val_loss: 90.8797\n",
      "Epoch 49/50\n",
      "20/20 [==============================] - 0s 4ms/step - loss: 67.0610 - val_loss: 87.4726\n",
      "Epoch 50/50\n",
      "20/20 [==============================] - 0s 4ms/step - loss: 65.2984 - val_loss: 88.1452\n"
     ]
    },
    {
     "data": {
      "text/plain": [
       "<keras.callbacks.History at 0x2615a391490>"
      ]
     },
     "execution_count": 1,
     "metadata": {},
     "output_type": "execute_result"
    }
   ],
   "source": [
    "import numpy as np\n",
    "from keras.models import Sequential\n",
    "from keras.layers import Dense\n",
    "from sklearn.datasets import make_regression\n",
    "from sklearn.model_selection import train_test_split\n",
    "\n",
    "X, y = make_regression(n_samples=1000, n_features=10, noise=0.1)\n",
    "\n",
    "X_train, X_test, y_train, y_test = train_test_split(X, y, test_size=0.2, random_state=42)\n",
    "\n",
    "model = Sequential()\n",
    "model.add(Dense(32, input_dim=X_train.shape[1], activation='relu'))\n",
    "model.add(Dense(16, activation='relu'))\n",
    "model.add(Dense(1, activation='linear'))\n",
    "\n",
    "model.compile(loss='mean_squared_error', optimizer='adam')\n",
    "\n",
    "model.fit(X_train, y_train, epochs=50, batch_size=32, validation_split=0.2)"
   ]
  },
  {
   "cell_type": "code",
   "execution_count": 2,
   "id": "d81a9fd2",
   "metadata": {},
   "outputs": [
    {
     "name": "stdout",
     "output_type": "stream",
     "text": [
      "7/7 [==============================] - 0s 2ms/step - loss: 65.5805\n",
      "Test loss: 65.58045959472656\n",
      "1/1 [==============================] - 1s 813ms/step\n",
      "Prediction for new data: [[123.724266]]\n"
     ]
    }
   ],
   "source": [
    "loss = model.evaluate(X_test, y_test)\n",
    "\n",
    "print('Test loss:', loss)\n",
    "\n",
    "new_data = np.array([[0.1, 0.2, 0.3, 0.4, 0.5, 0.6, 0.7, 0.8, 0.9, 1.0]])\n",
    "new_data_prediction = model.predict(new_data)\n",
    "print('Prediction for new data:', new_data_prediction)"
   ]
  },
  {
   "cell_type": "code",
   "execution_count": null,
   "id": "7c9c6542",
   "metadata": {},
   "outputs": [],
   "source": []
  }
 ],
 "metadata": {
  "kernelspec": {
   "display_name": "Python 3 (ipykernel)",
   "language": "python",
   "name": "python3"
  },
  "language_info": {
   "codemirror_mode": {
    "name": "ipython",
    "version": 3
   },
   "file_extension": ".py",
   "mimetype": "text/x-python",
   "name": "python",
   "nbconvert_exporter": "python",
   "pygments_lexer": "ipython3",
   "version": "3.11.3"
  }
 },
 "nbformat": 4,
 "nbformat_minor": 5
}
