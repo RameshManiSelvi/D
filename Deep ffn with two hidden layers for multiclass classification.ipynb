{
 "cells": [
  {
   "cell_type": "code",
   "execution_count": 2,
   "id": "e87fd3d2",
   "metadata": {},
   "outputs": [
    {
     "name": "stdout",
     "output_type": "stream",
     "text": [
      "Epoch 1/10\n",
      "3/3 [==============================] - 2s 152ms/step - loss: 1.2332 - accuracy: 0.2500 - val_loss: 1.1453 - val_accuracy: 0.3750\n",
      "Epoch 2/10\n",
      "3/3 [==============================] - 0s 27ms/step - loss: 1.1732 - accuracy: 0.3125 - val_loss: 1.1004 - val_accuracy: 0.4167\n",
      "Epoch 3/10\n",
      "3/3 [==============================] - 0s 24ms/step - loss: 1.1184 - accuracy: 0.3958 - val_loss: 1.0605 - val_accuracy: 0.5833\n",
      "Epoch 4/10\n",
      "3/3 [==============================] - 0s 18ms/step - loss: 1.0653 - accuracy: 0.5208 - val_loss: 1.0279 - val_accuracy: 0.6667\n",
      "Epoch 5/10\n",
      "3/3 [==============================] - 0s 19ms/step - loss: 1.0217 - accuracy: 0.7188 - val_loss: 0.9966 - val_accuracy: 0.7500\n",
      "Epoch 6/10\n",
      "3/3 [==============================] - 0s 20ms/step - loss: 0.9810 - accuracy: 0.8125 - val_loss: 0.9670 - val_accuracy: 0.8333\n",
      "Epoch 7/10\n",
      "3/3 [==============================] - 0s 18ms/step - loss: 0.9401 - accuracy: 0.8229 - val_loss: 0.9384 - val_accuracy: 0.8333\n",
      "Epoch 8/10\n",
      "3/3 [==============================] - 0s 19ms/step - loss: 0.9045 - accuracy: 0.8750 - val_loss: 0.9115 - val_accuracy: 0.9167\n",
      "Epoch 9/10\n",
      "3/3 [==============================] - 0s 19ms/step - loss: 0.8708 - accuracy: 0.8750 - val_loss: 0.8855 - val_accuracy: 0.9167\n",
      "Epoch 10/10\n",
      "3/3 [==============================] - 0s 24ms/step - loss: 0.8359 - accuracy: 0.9167 - val_loss: 0.8608 - val_accuracy: 0.9583\n"
     ]
    },
    {
     "data": {
      "text/plain": [
       "<keras.callbacks.History at 0x2b806d257d0>"
      ]
     },
     "execution_count": 2,
     "metadata": {},
     "output_type": "execute_result"
    }
   ],
   "source": [
    "import tensorflow as tf\n",
    "from tensorflow.keras.models import Sequential\n",
    "from tensorflow.keras.layers import Dense\n",
    "from tensorflow.keras.utils import to_categorical\n",
    "from sklearn.datasets import load_iris\n",
    "from sklearn.model_selection import train_test_split\n",
    "from sklearn.preprocessing import StandardScaler\n",
    "from sklearn.metrics import classification_report, confusion_matrix\n",
    "\n",
    "iris = load_iris()\n",
    "X = iris.data\n",
    "y = iris.target\n",
    "\n",
    "X_train, X_test, y_train, y_test = train_test_split(X, y, test_size=0.2, random_state=42)\n",
    "\n",
    "scaler = StandardScaler()\n",
    "X_train_scaled = scaler.fit_transform(X_train)\n",
    "X_test_scaled = scaler.transform(X_test)\n",
    "\n",
    "num_classes = len(iris.target_names)\n",
    "y_train_one_hot = to_categorical(y_train, num_classes=num_classes)\n",
    "y_test_one_hot = to_categorical(y_test, num_classes=num_classes)\n",
    "\n",
    "model = Sequential()\n",
    "model.add(Dense(units=64, activation='relu', input_dim=X_train_scaled.shape[1]))\n",
    "model.add(Dense(10, activation='relu'))\n",
    "model.add(Dense(units=num_classes, activation='softmax'))\n",
    "\n",
    "model.compile(optimizer='adam', loss='categorical_crossentropy', metrics=['accuracy'])\n",
    "\n",
    "model.fit(X_train_scaled, y_train_one_hot, epochs=10, batch_size=32, validation_split=0.2)"
   ]
  },
  {
   "cell_type": "code",
   "execution_count": 3,
   "id": "28bfdff6",
   "metadata": {},
   "outputs": [
    {
     "name": "stdout",
     "output_type": "stream",
     "text": [
      "Model: \"sequential\"\n",
      "_________________________________________________________________\n",
      " Layer (type)                Output Shape              Param #   \n",
      "=================================================================\n",
      " dense (Dense)               (None, 64)                320       \n",
      "                                                                 \n",
      " dense_1 (Dense)             (None, 10)                650       \n",
      "                                                                 \n",
      " dense_2 (Dense)             (None, 3)                 33        \n",
      "                                                                 \n",
      "=================================================================\n",
      "Total params: 1,003\n",
      "Trainable params: 1,003\n",
      "Non-trainable params: 0\n",
      "_________________________________________________________________\n"
     ]
    }
   ],
   "source": [
    "model.summary()"
   ]
  },
  {
   "cell_type": "code",
   "execution_count": 5,
   "id": "b403655a",
   "metadata": {},
   "outputs": [
    {
     "name": "stdout",
     "output_type": "stream",
     "text": [
      "1/1 [==============================] - 0s 32ms/step - loss: 0.8234 - accuracy: 0.9333\n",
      "Test Accuracy: 0.9333333373069763\n",
      "1/1 [==============================] - 0s 23ms/step\n",
      "Classification Report:\n",
      "              precision    recall  f1-score   support\n",
      "\n",
      "           0       1.00      1.00      1.00        10\n",
      "           1       0.89      0.89      0.89         9\n",
      "           2       0.91      0.91      0.91        11\n",
      "\n",
      "    accuracy                           0.93        30\n",
      "   macro avg       0.93      0.93      0.93        30\n",
      "weighted avg       0.93      0.93      0.93        30\n",
      "\n",
      "Confusion Matrix:\n",
      "[[10  0  0]\n",
      " [ 0  8  1]\n",
      " [ 0  1 10]]\n"
     ]
    }
   ],
   "source": [
    "_, test_accuracy = model.evaluate(X_test_scaled, y_test_one_hot)\n",
    "print(\"Test Accuracy:\", test_accuracy)\n",
    "\n",
    "y_pred = model.predict(X_test_scaled)\n",
    "y_pred_classes = tf.argmax(y_pred, axis=1)\n",
    "\n",
    "y_test = tf.argmax(y_test_one_hot, axis=1)\n",
    "\n",
    "print(\"Classification Report:\")\n",
    "print(classification_report(y_test, y_pred_classes))\n",
    "print(\"Confusion Matrix:\")\n",
    "print(confusion_matrix(y_test, y_pred_classes))"
   ]
  }
 ],
 "metadata": {
  "kernelspec": {
   "display_name": "Python 3 (ipykernel)",
   "language": "python",
   "name": "python3"
  },
  "language_info": {
   "codemirror_mode": {
    "name": "ipython",
    "version": 3
   },
   "file_extension": ".py",
   "mimetype": "text/x-python",
   "name": "python",
   "nbconvert_exporter": "python",
   "pygments_lexer": "ipython3",
   "version": "3.11.3"
  }
 },
 "nbformat": 4,
 "nbformat_minor": 5
}
