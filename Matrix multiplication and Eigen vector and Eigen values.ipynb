{
 "cells": [
  {
   "cell_type": "code",
   "execution_count": 17,
   "id": "3565f539",
   "metadata": {},
   "outputs": [
    {
     "data": {
      "text/plain": [
       "<tf.Tensor: shape=(2, 2), dtype=int32, numpy=\n",
       "array([[1, 2],\n",
       "       [3, 4]])>"
      ]
     },
     "execution_count": 17,
     "metadata": {},
     "output_type": "execute_result"
    }
   ],
   "source": [
    "import tensorflow as tf\n",
    "import numpy as np\n",
    "\n",
    "m1= tf.constant([1,2,3,4],shape=[2,2])\n",
    "m1"
   ]
  },
  {
   "cell_type": "code",
   "execution_count": 18,
   "id": "0c7e9455",
   "metadata": {},
   "outputs": [
    {
     "data": {
      "text/plain": [
       "<tf.Tensor: shape=(2, 2), dtype=int32, numpy=\n",
       "array([[ 7,  8],\n",
       "       [ 9, 10]])>"
      ]
     },
     "execution_count": 18,
     "metadata": {},
     "output_type": "execute_result"
    }
   ],
   "source": [
    "m2= tf.constant([7,8,9,10],shape=[2,2])\n",
    "m2"
   ]
  },
  {
   "cell_type": "code",
   "execution_count": 19,
   "id": "91ece0d8",
   "metadata": {},
   "outputs": [
    {
     "data": {
      "text/plain": [
       "<tf.Tensor: shape=(2, 2), dtype=int32, numpy=\n",
       "array([[25, 28],\n",
       "       [57, 64]])>"
      ]
     },
     "execution_count": 19,
     "metadata": {},
     "output_type": "execute_result"
    }
   ],
   "source": [
    "mmult=tf.matmul(m1,m2)\n",
    "mmult"
   ]
  },
  {
   "cell_type": "code",
   "execution_count": 27,
   "id": "4e7d3536",
   "metadata": {},
   "outputs": [
    {
     "name": "stdout",
     "output_type": "stream",
     "text": [
      "[ 1.6116844e+01+0.j -1.1168439e+00+0.j -5.1728279e-07+0.j]\n",
      "[[ 0.23197053+0.j  0.7858302 +0.j  0.40824813+0.j]\n",
      " [ 0.525322  +0.j  0.08675158+0.j -0.8164967 +0.j]\n",
      " [ 0.8186736 +0.j -0.6123275 +0.j  0.40824836+0.j]]\n"
     ]
    }
   ],
   "source": [
    "matrix = tf.constant([[1.0, 2.0, 3.0],\n",
    "                      [4.0, 5.0, 6.0],\n",
    "                      [7.0, 8.0, 9.0]])\n",
    "\n",
    "# Compute eigenvalues and eigenvectors\n",
    "eigenvalues, eigenvectors = tf.linalg.eig(matrix)\n",
    "\n",
    "# Convert the eigenvalues and eigenvectors to NumPy arrays\n",
    "eigenvalues_np = eigenvalues.numpy()\n",
    "eigenvectors_np = eigenvectors.numpy()\n",
    "\n",
    "print(eigenvalues_np)\n",
    "print(eigenvectors_np)"
   ]
  },
  {
   "cell_type": "code",
   "execution_count": null,
   "id": "47f8e33c",
   "metadata": {},
   "outputs": [],
   "source": []
  }
 ],
 "metadata": {
  "kernelspec": {
   "display_name": "Python 3 (ipykernel)",
   "language": "python",
   "name": "python3"
  },
  "language_info": {
   "codemirror_mode": {
    "name": "ipython",
    "version": 3
   },
   "file_extension": ".py",
   "mimetype": "text/x-python",
   "name": "python",
   "nbconvert_exporter": "python",
   "pygments_lexer": "ipython3",
   "version": "3.11.3"
  }
 },
 "nbformat": 4,
 "nbformat_minor": 5
}
